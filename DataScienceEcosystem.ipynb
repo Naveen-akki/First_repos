{
 "cells": [
  {
   "cell_type": "markdown",
   "id": "760e3cf2-5d4e-4076-bb4d-e3fc5c567fab",
   "metadata": {},
   "source": [
    "# Data Science Tools and ecosystem"
   ]
  },
  {
   "cell_type": "markdown",
   "id": "26339cd9-618a-462a-be61-71dbd91c34cc",
   "metadata": {},
   "source": [
    "In this notebook, Data Science Tools and Ecosystem are summarized."
   ]
  },
  {
   "cell_type": "markdown",
   "id": "f10b2719-e735-40ef-ab2e-a49ba0eac2c6",
   "metadata": {},
   "source": [
    "Some of the popular languages that Data Scientists use are:\n",
    "1. Python\n",
    "2. R\n",
    "3. Scala\n",
    "4. SQL"
   ]
  },
  {
   "cell_type": "markdown",
   "id": "1dad06b9-4f8f-48c3-9de3-5ca60e42178b",
   "metadata": {},
   "source": [
    "Some of the commonly used libraries used by Data Scientists include:\n",
    "1. Pandas\n",
    "2. Numpy\n",
    "3. Matplotlib\n",
    "4. ggplot\n",
    "5. Scikit"
   ]
  },
  {
   "cell_type": "markdown",
   "id": "6cfe4df6-a222-4679-9ad9-a8d474d0dd53",
   "metadata": {},
   "source": [
    "|Data Science Tools|\n",
    "|------------------|\n",
    "|Hadoop|\n",
    "|Apache Spark|\n",
    "|GitHub|\n",
    "|Jupyter Notebook|"
   ]
  },
  {
   "cell_type": "markdown",
   "id": "f279dc25-b77a-45a5-b4c3-f93d9c18eca5",
   "metadata": {},
   "source": [
    "### Below are a few examples of evaluating arithmetic expression in Python. "
   ]
  },
  {
   "cell_type": "code",
   "execution_count": 1,
   "id": "25edfa2c-7835-4973-9b1d-3da534aa11da",
   "metadata": {},
   "outputs": [
    {
     "data": {
      "text/plain": [
       "17"
      ]
     },
     "execution_count": 1,
     "metadata": {},
     "output_type": "execute_result"
    }
   ],
   "source": [
    "# This is a simple arithmetic expression to multiply then add integers\n",
    "\n",
    "(3*4)+5"
   ]
  },
  {
   "cell_type": "code",
   "execution_count": 2,
   "id": "d94fc6f3-fa8e-4844-bc4d-04ed1e68d8d8",
   "metadata": {},
   "outputs": [
    {
     "name": "stdout",
     "output_type": "stream",
     "text": [
      "3.3333333333333335\n"
     ]
    }
   ],
   "source": [
    "# This will convert 200 minutes to hours by dividing by 60\n",
    "\n",
    "minutes = 200\n",
    "hours = 200/60\n",
    "print(hours)"
   ]
  },
  {
   "cell_type": "markdown",
   "id": "a0d9e919-be2d-40ea-ab28-94dd74265a08",
   "metadata": {},
   "source": [
    "# __Objectives:__\n",
    "1. List Popular Languages for Data Science\n",
    "2. List Commonly used libraries for Data Science\n",
    "3. List few examples of evaluating arithmetic expression in Python."
   ]
  },
  {
   "cell_type": "markdown",
   "id": "8e435927-f40b-4464-8145-e766a89fe0f1",
   "metadata": {},
   "source": [
    "## Author\n",
    "Naveen B\n"
   ]
  },
  {
   "cell_type": "code",
   "execution_count": null,
   "id": "56795971-cbe7-41e4-8bcd-9582a572b084",
   "metadata": {},
   "outputs": [],
   "source": []
  }
 ],
 "metadata": {
  "kernelspec": {
   "display_name": "Python 3 (ipykernel)",
   "language": "python",
   "name": "python3"
  },
  "language_info": {
   "codemirror_mode": {
    "name": "ipython",
    "version": 3
   },
   "file_extension": ".py",
   "mimetype": "text/x-python",
   "name": "python",
   "nbconvert_exporter": "python",
   "pygments_lexer": "ipython3",
   "version": "3.8.2"
  }
 },
 "nbformat": 4,
 "nbformat_minor": 5
}
